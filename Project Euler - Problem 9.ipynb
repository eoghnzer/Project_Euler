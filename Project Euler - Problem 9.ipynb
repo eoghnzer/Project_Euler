{
 "cells": [
  {
   "cell_type": "code",
   "execution_count": 49,
   "metadata": {},
   "outputs": [],
   "source": [
    "tuplets = []\n",
    "\n",
    "for a in range(1,300):\n",
    "    for b in range(1,500):\n",
    "        for c in range(600):\n",
    "            sum = a+b+c\n",
    "            if (sum == 1000 and a!=b and a!=c and b!=c and a < b and a < c and b < c):\n",
    "                tuplets.append(a)\n",
    "                tuplets.append(b)\n",
    "                tuplets.append(c)\n",
    "\n",
    "\n",
    "triplets = [tuplets[i:i+3] for i in range(0,len(tuplets),3)]                \n",
    "\n",
    "for i in range(len(triplets)):\n",
    "    if ((triplets[i][0])**2 + (triplets[i][1])**2 == (triplets[i][2])**2):\n",
    "        print(triplets[i][0])\n",
    "        print(triplets[i][1])\n",
    "        print(triplets[i][2])      "
   ]
  }
 ],
 "metadata": {
  "kernelspec": {
   "display_name": "Python 3",
   "language": "python",
   "name": "python3"
  },
  "language_info": {
   "codemirror_mode": {
    "name": "ipython",
    "version": 3
   },
   "file_extension": ".py",
   "mimetype": "text/x-python",
   "name": "python",
   "nbconvert_exporter": "python",
   "pygments_lexer": "ipython3",
   "version": "3.7.4"
  }
 },
 "nbformat": 4,
 "nbformat_minor": 2
}
