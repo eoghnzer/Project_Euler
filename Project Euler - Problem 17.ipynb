{
 "cells": [
  {
   "cell_type": "code",
   "execution_count": 200,
   "metadata": {},
   "outputs": [
    {
     "name": "stdout",
     "output_type": "stream",
     "text": [
      "['one', 'two', 'three', 'four', 'five', 'six', 'seven', 'eight', 'nine']\n",
      "['twenty', 'thirty', 'forty', 'fifty', 'sixty', 'seventy', 'eighty', 'ninety']\n",
      "['onehundred', 'twohundred', 'threehundred', 'fourhundred', 'fivehundred', 'sixhundred', 'sevenhundred', 'eighthundred', 'ninehundred']\n",
      "['ten', 'eleven', 'twelve', 'thirteen', 'fourteen', 'fifteen', 'sixteen', 'seventeen', 'eighteen', 'nineteen']\n"
     ]
    }
   ],
   "source": [
    "numbers1= \"one two three four five six seven eight nine\"\n",
    "numbers2= \"twenty thirty forty fifty sixty seventy eighty ninety\"\n",
    "numbers3= \"onehundred twohundred threehundred fourhundred fivehundred sixhundred sevenhundred eighthundred ninehundred\"\n",
    "numbers4= \"ten eleven twelve thirteen fourteen fifteen sixteen seventeen eighteen nineteen\"\n",
    "\n",
    "\n",
    "n1 = numbers1.split()\n",
    "n2 = numbers2.split()\n",
    "n3 = numbers3.split()\n",
    "n4 = numbers4.split()\n",
    "\n",
    "\n",
    "print(n1)\n",
    "print(n2)\n",
    "print(n3)\n",
    "print(n4)\n",
    "\n",
    "        \n",
    "    "
   ]
  },
  {
   "cell_type": "code",
   "execution_count": 292,
   "metadata": {},
   "outputs": [],
   "source": [
    "#For numbers < 100\n",
    "\n",
    "def num_to_word1(num):\n",
    "    last_d=num%10\n",
    "    first_d=num//10\n",
    "    \n",
    "    if num < 10:\n",
    "        for i in range(1,10):\n",
    "            if i == last_d:\n",
    "                return n1[i-1]\n",
    "    elif num==10:\n",
    "        return \"ten\"\n",
    "    elif num >10 and num < 20:\n",
    "        for l in range(1,10):\n",
    "            if l == last_d:\n",
    "                return n4[l]\n",
    "    \n",
    "    elif num==90:\n",
    "        return \"ninety\"\n",
    "    elif last_d==0:\n",
    "        for m in range(1,9):\n",
    "            if m == first_d:\n",
    "                return n2[m-2]\n",
    "    \n",
    "    else :\n",
    "        for i in range(1,10):\n",
    "            if i ==first_d:\n",
    "                first_word=n2[i-2]\n",
    "                \n",
    "        for j in range(1,10):\n",
    "            if j ==last_d:\n",
    "                last_word=n1[j-1]\n",
    "                \n",
    "                return (first_word+last_word)\n",
    "   "
   ]
  },
  {
   "cell_type": "code",
   "execution_count": 293,
   "metadata": {},
   "outputs": [],
   "source": [
    "#for numbers < 1000\n",
    "\n",
    "\n",
    "def num_to_word2(num):\n",
    "    last_d=num%10\n",
    "    middle_d=(num%100)//10\n",
    "    first_d=num//100\n",
    "    \n",
    "    if(num < 100):\n",
    "        return num_to_word1(num)\n",
    "    \n",
    "   \n",
    "\n",
    "    elif(num >= 100 and num < 1000):\n",
    "        for a in range(1,10):\n",
    "            if a ==first_d:\n",
    "                first_word=n3[a-1]\n",
    "                \n",
    "        for b in range(1,10):\n",
    "            if b ==last_d:\n",
    "                last_word=n1[b-1]\n",
    "        \n",
    "        for k in range(1,10):\n",
    "            if k == middle_d and k != 1:\n",
    "                middle_word=n2[k-2]\n",
    "            elif k == middle_d and k == 1:\n",
    "                middle_word=n4[last_d]\n",
    "        \n",
    "        \n",
    "        if middle_d==0 and last_d==0:\n",
    "            return(first_word)\n",
    "        \n",
    "        elif middle_d==1:\n",
    "            return (first_word + \"and\" + middle_word)\n",
    "        \n",
    "        elif middle_d==0:\n",
    "            return (first_word + \"and\" + last_word)\n",
    "        \n",
    "        elif last_d==0:\n",
    "            return(first_word + \"and\" + middle_word)\n",
    "        \n",
    "        else:\n",
    "            return (first_word + \"and\" + middle_word + last_word)\n",
    "    \n",
    "        \n",
    "        \n",
    "        \n",
    "        \n",
    "    \n",
    "    else:\n",
    "        if num==1000:\n",
    "            return 'onethousand'\n",
    "    "
   ]
  },
  {
   "cell_type": "code",
   "execution_count": 296,
   "metadata": {},
   "outputs": [
    {
     "data": {
      "text/plain": [
       "'ninety'"
      ]
     },
     "execution_count": 296,
     "metadata": {},
     "output_type": "execute_result"
    }
   ],
   "source": [
    "num_to_word1(90)"
   ]
  },
  {
   "cell_type": "code",
   "execution_count": 310,
   "metadata": {},
   "outputs": [],
   "source": [
    "words=[num_to_word2(n) for n in range(1,1001)]"
   ]
  },
  {
   "cell_type": "code",
   "execution_count": 311,
   "metadata": {},
   "outputs": [],
   "source": [
    "w = \"\".join(words)"
   ]
  },
  {
   "cell_type": "code",
   "execution_count": 312,
   "metadata": {},
   "outputs": [
    {
     "data": {
      "text/plain": [
       "21124"
      ]
     },
     "execution_count": 312,
     "metadata": {},
     "output_type": "execute_result"
    }
   ],
   "source": [
    "len(w)"
   ]
  },
  {
   "cell_type": "code",
   "execution_count": null,
   "metadata": {},
   "outputs": [],
   "source": []
  }
 ],
 "metadata": {
  "kernelspec": {
   "display_name": "Python 3",
   "language": "python",
   "name": "python3"
  },
  "language_info": {
   "codemirror_mode": {
    "name": "ipython",
    "version": 3
   },
   "file_extension": ".py",
   "mimetype": "text/x-python",
   "name": "python",
   "nbconvert_exporter": "python",
   "pygments_lexer": "ipython3",
   "version": "3.7.4"
  }
 },
 "nbformat": 4,
 "nbformat_minor": 2
}
