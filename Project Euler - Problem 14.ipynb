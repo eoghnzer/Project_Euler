{
 "cells": [
  {
   "cell_type": "code",
   "execution_count": 30,
   "metadata": {},
   "outputs": [
    {
     "data": {
      "text/plain": [
       "871"
      ]
     },
     "execution_count": 30,
     "metadata": {},
     "output_type": "execute_result"
    }
   ],
   "source": [
    "#define collatz sequence\n",
    "\n",
    "def col_seq(num):\n",
    "    seq=[num]\n",
    "    while num > 1:\n",
    "        if num%2==0:\n",
    "            num=(num/2)\n",
    "        else:\n",
    "            num = 3*num + 1\n",
    "        seq.append(int(num)) \n",
    "    return len(seq)\n",
    "\n",
    "\n",
    "len_col_seq=[col_seq(n) for n in range(1000)]  #generate list of collatz seq lengths for each num\n",
    "\n",
    "m = max(len_col_seq) #max of list\n",
    "\n",
    "len_col_seq.index(m) #position of max, and thus number"
   ]
  },
  {
   "cell_type": "code",
   "execution_count": null,
   "metadata": {},
   "outputs": [],
   "source": []
  }
 ],
 "metadata": {
  "kernelspec": {
   "display_name": "Python 3",
   "language": "python",
   "name": "python3"
  },
  "language_info": {
   "codemirror_mode": {
    "name": "ipython",
    "version": 3
   },
   "file_extension": ".py",
   "mimetype": "text/x-python",
   "name": "python",
   "nbconvert_exporter": "python",
   "pygments_lexer": "ipython3",
   "version": "3.7.4"
  }
 },
 "nbformat": 4,
 "nbformat_minor": 2
}
