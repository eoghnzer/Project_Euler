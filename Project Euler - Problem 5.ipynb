{
 "cells": [
  {
   "cell_type": "code",
   "execution_count": 29,
   "metadata": {},
   "outputs": [
    {
     "name": "stdout",
     "output_type": "stream",
     "text": [
      "[232792560, 465585120, 698377680, 931170240]\n"
     ]
    }
   ],
   "source": [
    "#simple approach, single number\n",
    "\n",
    "def ifDividesAll(num):\n",
    "    for i in range(2,21):\n",
    "        if num%i != 0:\n",
    "            return False\n",
    "    return True\n",
    "\n",
    "divisors = [n for n in range(2520,1000000000,20) if ifDividesAll(n) == True]\n",
    "\n",
    "print(divisors)"
   ]
  },
  {
   "cell_type": "code",
   "execution_count": null,
   "metadata": {},
   "outputs": [],
   "source": []
  }
 ],
 "metadata": {
  "kernelspec": {
   "display_name": "Python 3",
   "language": "python",
   "name": "python3"
  },
  "language_info": {
   "codemirror_mode": {
    "name": "ipython",
    "version": 3
   },
   "file_extension": ".py",
   "mimetype": "text/x-python",
   "name": "python",
   "nbconvert_exporter": "python",
   "pygments_lexer": "ipython3",
   "version": "3.7.4"
  }
 },
 "nbformat": 4,
 "nbformat_minor": 2
}
