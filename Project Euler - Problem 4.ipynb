{
 "cells": [
  {
   "cell_type": "code",
   "execution_count": 15,
   "metadata": {},
   "outputs": [],
   "source": [
    "import math\n",
    "\n",
    "#define reversing function\n",
    "\n",
    "def Reverser(num):\n",
    "    reverse=0\n",
    "    \n",
    "    while num > 0:\n",
    "        remainder = num%10  #Isolate last digit\n",
    "        reverse = reverse*10 + remainder\n",
    "        num = num // 10 #returns nearest int divisiser\n",
    "    return reverse\n",
    "    \n",
    "#creating array of products \n",
    "    \n",
    "three_digit_prods = []\n",
    "\n",
    "for i in range (100,1000):\n",
    "    for j in range(100,1000):\n",
    "        product = i*j\n",
    "        three_digit_prods.append(product)\n",
    "\n",
    "        \n",
    "        \n",
    "        \n",
    "\n",
    "        \n",
    "pallindromes = [n for n in three_digit_prods if n == Reverser(n)]\n",
    "max(pallindromes)"
   ]
  },
  {
   "cell_type": "code",
   "execution_count": 27,
   "metadata": {},
   "outputs": [
    {
     "data": {
      "text/plain": [
       "66554"
      ]
     },
     "execution_count": 27,
     "metadata": {},
     "output_type": "execute_result"
    }
   ],
   "source": [
    "Reverser(45566)"
   ]
  },
  {
   "cell_type": "code",
   "execution_count": 22,
   "metadata": {},
   "outputs": [],
   "source": [
    "#Need way to see if number is product of 2 3 digit numbers\n",
    "\n",
    "\n",
    "%qtconsole\n",
    "\n"
   ]
  },
  {
   "cell_type": "code",
   "execution_count": 40,
   "metadata": {},
   "outputs": [
    {
     "data": {
      "text/plain": [
       "906609"
      ]
     },
     "execution_count": 40,
     "metadata": {},
     "output_type": "execute_result"
    }
   ],
   "source": [
    "\n",
    "        \n",
    "   "
   ]
  }
 ],
 "metadata": {
  "kernelspec": {
   "display_name": "Python 3",
   "language": "python",
   "name": "python3"
  },
  "language_info": {
   "codemirror_mode": {
    "name": "ipython",
    "version": 3
   },
   "file_extension": ".py",
   "mimetype": "text/x-python",
   "name": "python",
   "nbconvert_exporter": "python",
   "pygments_lexer": "ipython3",
   "version": "3.7.4"
  }
 },
 "nbformat": 4,
 "nbformat_minor": 2
}
