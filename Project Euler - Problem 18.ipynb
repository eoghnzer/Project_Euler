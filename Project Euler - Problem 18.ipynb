{
 "cells": [
  {
   "cell_type": "code",
   "execution_count": 74,
   "metadata": {},
   "outputs": [],
   "source": [
    "#defining no. of days in each months\n",
    "\n",
    "days_nlpyr = [31,28,31,30,31,30,31,31,30,31,30,31]\n",
    "days_lpyr = [31,29,31,30,31,30,31,31,30,31,30,31]\n",
    "\n",
    "months = \"jan feb march apr may june july aug sept oct nov dec\".split()\n",
    "\n",
    "\n",
    "#1st Jan 1900 = 1\n",
    "\n",
    "days=\"mon tues wed thurs fri sat sun\".split()\n"
   ]
  },
  {
   "cell_type": "code",
   "execution_count": 75,
   "metadata": {},
   "outputs": [
    {
     "name": "stdout",
     "output_type": "stream",
     "text": [
      "['jan', 'feb', 'march', 'apr', 'may', 'june', 'july', 'aug', 'sept', 'oct', 'nov', 'dec']\n"
     ]
    }
   ],
   "source": [
    "print(months)"
   ]
  },
  {
   "cell_type": "code",
   "execution_count": 76,
   "metadata": {},
   "outputs": [],
   "source": [
    "#populating days with leap year days starting with a list on non leap years\n",
    "\n",
    "\n",
    "days_century=days_nlpyr*99\n",
    "for i in range(1,len(days_century)):\n",
    "    if i==1189:\n",
    "        days_century[i]=28\n",
    "    \n",
    "    elif i==37:\n",
    "        days_century[i]=29\n",
    "    elif i%48==37 or i==1201:\n",
    "        days_century[i]=29 "
   ]
  },
  {
   "cell_type": "code",
   "execution_count": 77,
   "metadata": {},
   "outputs": [],
   "source": [
    "#useful function for accessing right index for months\n",
    "\n",
    "def year_to_num(month_num, year):\n",
    "    num = month_num + 12*(year-1900)\n",
    "    return num"
   ]
  },
  {
   "cell_type": "code",
   "execution_count": 78,
   "metadata": {},
   "outputs": [],
   "source": [
    "#works definitely\n",
    "\n",
    "\n",
    "\n",
    "def day_of_first_of_month2(num):\n",
    "    \n",
    "    tot_days = sum(days_century[:num-1])\n",
    "    num_index = tot_days%7\n",
    "    day = days[num_index]\n",
    "    \n",
    "    return day\n",
    "\n"
   ]
  },
  {
   "cell_type": "code",
   "execution_count": 79,
   "metadata": {},
   "outputs": [],
   "source": [
    "first_days = [day_of_first_of_month2(n) for n in range(1,len(days_century))]"
   ]
  },
  {
   "cell_type": "code",
   "execution_count": 80,
   "metadata": {},
   "outputs": [
    {
     "name": "stdout",
     "output_type": "stream",
     "text": [
      "171\n"
     ]
    }
   ],
   "source": [
    "print(first_days.count('sun'))"
   ]
  },
  {
   "cell_type": "code",
   "execution_count": null,
   "metadata": {},
   "outputs": [],
   "source": []
  }
 ],
 "metadata": {
  "kernelspec": {
   "display_name": "Python 3",
   "language": "python",
   "name": "python3"
  },
  "language_info": {
   "codemirror_mode": {
    "name": "ipython",
    "version": 3
   },
   "file_extension": ".py",
   "mimetype": "text/x-python",
   "name": "python",
   "nbconvert_exporter": "python",
   "pygments_lexer": "ipython3",
   "version": "3.7.4"
  }
 },
 "nbformat": 4,
 "nbformat_minor": 2
}
